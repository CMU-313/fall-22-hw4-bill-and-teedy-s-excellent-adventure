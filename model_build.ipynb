{
 "cells": [
  {
   "cell_type": "markdown",
   "metadata": {},
   "source": [
    "### Creating and Persisting an ML Model"
   ]
  },
  {
   "cell_type": "code",
   "execution_count": 22,
   "metadata": {},
   "outputs": [],
   "source": [
    "import pandas as pd\n",
    "import numpy as np\n",
    "df = pd.read_csv('data/student-mat.csv', sep=';')"
   ]
  },
  {
   "cell_type": "markdown",
   "metadata": {},
   "source": [
    "Summary of the data"
   ]
  },
  {
   "cell_type": "code",
   "execution_count": 23,
   "metadata": {},
   "outputs": [
    {
     "data": {
      "text/html": [
       "<div>\n",
       "<style scoped>\n",
       "    .dataframe tbody tr th:only-of-type {\n",
       "        vertical-align: middle;\n",
       "    }\n",
       "\n",
       "    .dataframe tbody tr th {\n",
       "        vertical-align: top;\n",
       "    }\n",
       "\n",
       "    .dataframe thead th {\n",
       "        text-align: right;\n",
       "    }\n",
       "</style>\n",
       "<table border=\"1\" class=\"dataframe\">\n",
       "  <thead>\n",
       "    <tr style=\"text-align: right;\">\n",
       "      <th></th>\n",
       "      <th>school</th>\n",
       "      <th>sex</th>\n",
       "      <th>age</th>\n",
       "      <th>address</th>\n",
       "      <th>famsize</th>\n",
       "      <th>Pstatus</th>\n",
       "      <th>Medu</th>\n",
       "      <th>Fedu</th>\n",
       "      <th>Mjob</th>\n",
       "      <th>Fjob</th>\n",
       "      <th>...</th>\n",
       "      <th>famrel</th>\n",
       "      <th>freetime</th>\n",
       "      <th>goout</th>\n",
       "      <th>Dalc</th>\n",
       "      <th>Walc</th>\n",
       "      <th>health</th>\n",
       "      <th>absences</th>\n",
       "      <th>G1</th>\n",
       "      <th>G2</th>\n",
       "      <th>G3</th>\n",
       "    </tr>\n",
       "  </thead>\n",
       "  <tbody>\n",
       "    <tr>\n",
       "      <th>0</th>\n",
       "      <td>GP</td>\n",
       "      <td>F</td>\n",
       "      <td>18</td>\n",
       "      <td>U</td>\n",
       "      <td>GT3</td>\n",
       "      <td>A</td>\n",
       "      <td>4</td>\n",
       "      <td>4</td>\n",
       "      <td>at_home</td>\n",
       "      <td>teacher</td>\n",
       "      <td>...</td>\n",
       "      <td>4</td>\n",
       "      <td>3</td>\n",
       "      <td>4</td>\n",
       "      <td>1</td>\n",
       "      <td>1</td>\n",
       "      <td>3</td>\n",
       "      <td>6</td>\n",
       "      <td>5</td>\n",
       "      <td>6</td>\n",
       "      <td>6</td>\n",
       "    </tr>\n",
       "    <tr>\n",
       "      <th>1</th>\n",
       "      <td>GP</td>\n",
       "      <td>F</td>\n",
       "      <td>17</td>\n",
       "      <td>U</td>\n",
       "      <td>GT3</td>\n",
       "      <td>T</td>\n",
       "      <td>1</td>\n",
       "      <td>1</td>\n",
       "      <td>at_home</td>\n",
       "      <td>other</td>\n",
       "      <td>...</td>\n",
       "      <td>5</td>\n",
       "      <td>3</td>\n",
       "      <td>3</td>\n",
       "      <td>1</td>\n",
       "      <td>1</td>\n",
       "      <td>3</td>\n",
       "      <td>4</td>\n",
       "      <td>5</td>\n",
       "      <td>5</td>\n",
       "      <td>6</td>\n",
       "    </tr>\n",
       "    <tr>\n",
       "      <th>2</th>\n",
       "      <td>GP</td>\n",
       "      <td>F</td>\n",
       "      <td>15</td>\n",
       "      <td>U</td>\n",
       "      <td>LE3</td>\n",
       "      <td>T</td>\n",
       "      <td>1</td>\n",
       "      <td>1</td>\n",
       "      <td>at_home</td>\n",
       "      <td>other</td>\n",
       "      <td>...</td>\n",
       "      <td>4</td>\n",
       "      <td>3</td>\n",
       "      <td>2</td>\n",
       "      <td>2</td>\n",
       "      <td>3</td>\n",
       "      <td>3</td>\n",
       "      <td>10</td>\n",
       "      <td>7</td>\n",
       "      <td>8</td>\n",
       "      <td>10</td>\n",
       "    </tr>\n",
       "    <tr>\n",
       "      <th>3</th>\n",
       "      <td>GP</td>\n",
       "      <td>F</td>\n",
       "      <td>15</td>\n",
       "      <td>U</td>\n",
       "      <td>GT3</td>\n",
       "      <td>T</td>\n",
       "      <td>4</td>\n",
       "      <td>2</td>\n",
       "      <td>health</td>\n",
       "      <td>services</td>\n",
       "      <td>...</td>\n",
       "      <td>3</td>\n",
       "      <td>2</td>\n",
       "      <td>2</td>\n",
       "      <td>1</td>\n",
       "      <td>1</td>\n",
       "      <td>5</td>\n",
       "      <td>2</td>\n",
       "      <td>15</td>\n",
       "      <td>14</td>\n",
       "      <td>15</td>\n",
       "    </tr>\n",
       "    <tr>\n",
       "      <th>4</th>\n",
       "      <td>GP</td>\n",
       "      <td>F</td>\n",
       "      <td>16</td>\n",
       "      <td>U</td>\n",
       "      <td>GT3</td>\n",
       "      <td>T</td>\n",
       "      <td>3</td>\n",
       "      <td>3</td>\n",
       "      <td>other</td>\n",
       "      <td>other</td>\n",
       "      <td>...</td>\n",
       "      <td>4</td>\n",
       "      <td>3</td>\n",
       "      <td>2</td>\n",
       "      <td>1</td>\n",
       "      <td>2</td>\n",
       "      <td>5</td>\n",
       "      <td>4</td>\n",
       "      <td>6</td>\n",
       "      <td>10</td>\n",
       "      <td>10</td>\n",
       "    </tr>\n",
       "    <tr>\n",
       "      <th>...</th>\n",
       "      <td>...</td>\n",
       "      <td>...</td>\n",
       "      <td>...</td>\n",
       "      <td>...</td>\n",
       "      <td>...</td>\n",
       "      <td>...</td>\n",
       "      <td>...</td>\n",
       "      <td>...</td>\n",
       "      <td>...</td>\n",
       "      <td>...</td>\n",
       "      <td>...</td>\n",
       "      <td>...</td>\n",
       "      <td>...</td>\n",
       "      <td>...</td>\n",
       "      <td>...</td>\n",
       "      <td>...</td>\n",
       "      <td>...</td>\n",
       "      <td>...</td>\n",
       "      <td>...</td>\n",
       "      <td>...</td>\n",
       "      <td>...</td>\n",
       "    </tr>\n",
       "    <tr>\n",
       "      <th>390</th>\n",
       "      <td>MS</td>\n",
       "      <td>M</td>\n",
       "      <td>20</td>\n",
       "      <td>U</td>\n",
       "      <td>LE3</td>\n",
       "      <td>A</td>\n",
       "      <td>2</td>\n",
       "      <td>2</td>\n",
       "      <td>services</td>\n",
       "      <td>services</td>\n",
       "      <td>...</td>\n",
       "      <td>5</td>\n",
       "      <td>5</td>\n",
       "      <td>4</td>\n",
       "      <td>4</td>\n",
       "      <td>5</td>\n",
       "      <td>4</td>\n",
       "      <td>11</td>\n",
       "      <td>9</td>\n",
       "      <td>9</td>\n",
       "      <td>9</td>\n",
       "    </tr>\n",
       "    <tr>\n",
       "      <th>391</th>\n",
       "      <td>MS</td>\n",
       "      <td>M</td>\n",
       "      <td>17</td>\n",
       "      <td>U</td>\n",
       "      <td>LE3</td>\n",
       "      <td>T</td>\n",
       "      <td>3</td>\n",
       "      <td>1</td>\n",
       "      <td>services</td>\n",
       "      <td>services</td>\n",
       "      <td>...</td>\n",
       "      <td>2</td>\n",
       "      <td>4</td>\n",
       "      <td>5</td>\n",
       "      <td>3</td>\n",
       "      <td>4</td>\n",
       "      <td>2</td>\n",
       "      <td>3</td>\n",
       "      <td>14</td>\n",
       "      <td>16</td>\n",
       "      <td>16</td>\n",
       "    </tr>\n",
       "    <tr>\n",
       "      <th>392</th>\n",
       "      <td>MS</td>\n",
       "      <td>M</td>\n",
       "      <td>21</td>\n",
       "      <td>R</td>\n",
       "      <td>GT3</td>\n",
       "      <td>T</td>\n",
       "      <td>1</td>\n",
       "      <td>1</td>\n",
       "      <td>other</td>\n",
       "      <td>other</td>\n",
       "      <td>...</td>\n",
       "      <td>5</td>\n",
       "      <td>5</td>\n",
       "      <td>3</td>\n",
       "      <td>3</td>\n",
       "      <td>3</td>\n",
       "      <td>3</td>\n",
       "      <td>3</td>\n",
       "      <td>10</td>\n",
       "      <td>8</td>\n",
       "      <td>7</td>\n",
       "    </tr>\n",
       "    <tr>\n",
       "      <th>393</th>\n",
       "      <td>MS</td>\n",
       "      <td>M</td>\n",
       "      <td>18</td>\n",
       "      <td>R</td>\n",
       "      <td>LE3</td>\n",
       "      <td>T</td>\n",
       "      <td>3</td>\n",
       "      <td>2</td>\n",
       "      <td>services</td>\n",
       "      <td>other</td>\n",
       "      <td>...</td>\n",
       "      <td>4</td>\n",
       "      <td>4</td>\n",
       "      <td>1</td>\n",
       "      <td>3</td>\n",
       "      <td>4</td>\n",
       "      <td>5</td>\n",
       "      <td>0</td>\n",
       "      <td>11</td>\n",
       "      <td>12</td>\n",
       "      <td>10</td>\n",
       "    </tr>\n",
       "    <tr>\n",
       "      <th>394</th>\n",
       "      <td>MS</td>\n",
       "      <td>M</td>\n",
       "      <td>19</td>\n",
       "      <td>U</td>\n",
       "      <td>LE3</td>\n",
       "      <td>T</td>\n",
       "      <td>1</td>\n",
       "      <td>1</td>\n",
       "      <td>other</td>\n",
       "      <td>at_home</td>\n",
       "      <td>...</td>\n",
       "      <td>3</td>\n",
       "      <td>2</td>\n",
       "      <td>3</td>\n",
       "      <td>3</td>\n",
       "      <td>3</td>\n",
       "      <td>5</td>\n",
       "      <td>5</td>\n",
       "      <td>8</td>\n",
       "      <td>9</td>\n",
       "      <td>9</td>\n",
       "    </tr>\n",
       "  </tbody>\n",
       "</table>\n",
       "<p>395 rows × 33 columns</p>\n",
       "</div>"
      ],
      "text/plain": [
       "    school sex  age address famsize Pstatus  Medu  Fedu      Mjob      Fjob  \\\n",
       "0       GP   F   18       U     GT3       A     4     4   at_home   teacher   \n",
       "1       GP   F   17       U     GT3       T     1     1   at_home     other   \n",
       "2       GP   F   15       U     LE3       T     1     1   at_home     other   \n",
       "3       GP   F   15       U     GT3       T     4     2    health  services   \n",
       "4       GP   F   16       U     GT3       T     3     3     other     other   \n",
       "..     ...  ..  ...     ...     ...     ...   ...   ...       ...       ...   \n",
       "390     MS   M   20       U     LE3       A     2     2  services  services   \n",
       "391     MS   M   17       U     LE3       T     3     1  services  services   \n",
       "392     MS   M   21       R     GT3       T     1     1     other     other   \n",
       "393     MS   M   18       R     LE3       T     3     2  services     other   \n",
       "394     MS   M   19       U     LE3       T     1     1     other   at_home   \n",
       "\n",
       "     ... famrel freetime  goout  Dalc  Walc health absences  G1  G2  G3  \n",
       "0    ...      4        3      4     1     1      3        6   5   6   6  \n",
       "1    ...      5        3      3     1     1      3        4   5   5   6  \n",
       "2    ...      4        3      2     2     3      3       10   7   8  10  \n",
       "3    ...      3        2      2     1     1      5        2  15  14  15  \n",
       "4    ...      4        3      2     1     2      5        4   6  10  10  \n",
       "..   ...    ...      ...    ...   ...   ...    ...      ...  ..  ..  ..  \n",
       "390  ...      5        5      4     4     5      4       11   9   9   9  \n",
       "391  ...      2        4      5     3     4      2        3  14  16  16  \n",
       "392  ...      5        5      3     3     3      3        3  10   8   7  \n",
       "393  ...      4        4      1     3     4      5        0  11  12  10  \n",
       "394  ...      3        2      3     3     3      5        5   8   9   9  \n",
       "\n",
       "[395 rows x 33 columns]"
      ]
     },
     "execution_count": 23,
     "metadata": {},
     "output_type": "execute_result"
    }
   ],
   "source": [
    "df.describe()\n",
    "df"
   ]
  },
  {
   "cell_type": "code",
   "execution_count": 24,
   "metadata": {},
   "outputs": [
    {
     "data": {
      "text/plain": [
       "<bound method DataFrame.info of     school sex  age address famsize Pstatus  Medu  Fedu      Mjob      Fjob  \\\n",
       "0       GP   F   18       U     GT3       A     4     4   at_home   teacher   \n",
       "1       GP   F   17       U     GT3       T     1     1   at_home     other   \n",
       "2       GP   F   15       U     LE3       T     1     1   at_home     other   \n",
       "3       GP   F   15       U     GT3       T     4     2    health  services   \n",
       "4       GP   F   16       U     GT3       T     3     3     other     other   \n",
       "..     ...  ..  ...     ...     ...     ...   ...   ...       ...       ...   \n",
       "390     MS   M   20       U     LE3       A     2     2  services  services   \n",
       "391     MS   M   17       U     LE3       T     3     1  services  services   \n",
       "392     MS   M   21       R     GT3       T     1     1     other     other   \n",
       "393     MS   M   18       R     LE3       T     3     2  services     other   \n",
       "394     MS   M   19       U     LE3       T     1     1     other   at_home   \n",
       "\n",
       "     ... famrel freetime  goout  Dalc  Walc health absences  G1  G2  G3  \n",
       "0    ...      4        3      4     1     1      3        6   5   6   6  \n",
       "1    ...      5        3      3     1     1      3        4   5   5   6  \n",
       "2    ...      4        3      2     2     3      3       10   7   8  10  \n",
       "3    ...      3        2      2     1     1      5        2  15  14  15  \n",
       "4    ...      4        3      2     1     2      5        4   6  10  10  \n",
       "..   ...    ...      ...    ...   ...   ...    ...      ...  ..  ..  ..  \n",
       "390  ...      5        5      4     4     5      4       11   9   9   9  \n",
       "391  ...      2        4      5     3     4      2        3  14  16  16  \n",
       "392  ...      5        5      3     3     3      3        3  10   8   7  \n",
       "393  ...      4        4      1     3     4      5        0  11  12  10  \n",
       "394  ...      3        2      3     3     3      5        5   8   9   9  \n",
       "\n",
       "[395 rows x 33 columns]>"
      ]
     },
     "execution_count": 24,
     "metadata": {},
     "output_type": "execute_result"
    }
   ],
   "source": [
    "df.info"
   ]
  },
  {
   "cell_type": "markdown",
   "metadata": {},
   "source": [
    "Create a subset of features as an example."
   ]
  },
  {
   "cell_type": "code",
   "execution_count": 25,
   "metadata": {},
   "outputs": [],
   "source": [
    "include = ['school', 'higher','Mjob', 'Fjob', 'studytime', 'paid', 'failures', 'G3']\n",
    "df.drop(columns=df.columns.difference(include), inplace=True)  # only using 3 features"
   ]
  },
  {
   "cell_type": "code",
   "execution_count": 26,
   "metadata": {},
   "outputs": [
    {
     "data": {
      "text/plain": [
       "<bound method DataFrame.info of     school      Mjob      Fjob  studytime  failures paid higher  G3\n",
       "0       GP   at_home   teacher          2         0   no    yes   6\n",
       "1       GP   at_home     other          2         0   no    yes   6\n",
       "2       GP   at_home     other          2         3  yes    yes  10\n",
       "3       GP    health  services          3         0  yes    yes  15\n",
       "4       GP     other     other          2         0  yes    yes  10\n",
       "..     ...       ...       ...        ...       ...  ...    ...  ..\n",
       "390     MS  services  services          2         2  yes    yes   9\n",
       "391     MS  services  services          1         0   no    yes  16\n",
       "392     MS     other     other          1         3   no    yes   7\n",
       "393     MS  services     other          1         0   no    yes  10\n",
       "394     MS     other   at_home          1         0   no    yes   9\n",
       "\n",
       "[395 rows x 8 columns]>"
      ]
     },
     "execution_count": 26,
     "metadata": {},
     "output_type": "execute_result"
    }
   ],
   "source": [
    "df.info"
   ]
  },
  {
   "cell_type": "markdown",
   "metadata": {},
   "source": [
    "The goal is to predict the quality of the student. We will build a predictor based on the final grade (G3).\n",
    "Becasue we are trying to find quality students. In this model we define a quality student as one who achieves a final grade of 15 or higher. "
   ]
  },
  {
   "cell_type": "code",
   "execution_count": 27,
   "metadata": {},
   "outputs": [],
   "source": [
    "df['qual_student'] = np.where(df['G3']>=15, 1, 0)"
   ]
  },
  {
   "cell_type": "code",
   "execution_count": 28,
   "metadata": {},
   "outputs": [
    {
     "data": {
      "text/html": [
       "<div>\n",
       "<style scoped>\n",
       "    .dataframe tbody tr th:only-of-type {\n",
       "        vertical-align: middle;\n",
       "    }\n",
       "\n",
       "    .dataframe tbody tr th {\n",
       "        vertical-align: top;\n",
       "    }\n",
       "\n",
       "    .dataframe thead th {\n",
       "        text-align: right;\n",
       "    }\n",
       "</style>\n",
       "<table border=\"1\" class=\"dataframe\">\n",
       "  <thead>\n",
       "    <tr style=\"text-align: right;\">\n",
       "      <th></th>\n",
       "      <th>studytime</th>\n",
       "      <th>failures</th>\n",
       "      <th>G3</th>\n",
       "      <th>qual_student</th>\n",
       "    </tr>\n",
       "  </thead>\n",
       "  <tbody>\n",
       "    <tr>\n",
       "      <th>count</th>\n",
       "      <td>395.000000</td>\n",
       "      <td>395.000000</td>\n",
       "      <td>395.000000</td>\n",
       "      <td>395.000000</td>\n",
       "    </tr>\n",
       "    <tr>\n",
       "      <th>mean</th>\n",
       "      <td>2.035443</td>\n",
       "      <td>0.334177</td>\n",
       "      <td>10.415190</td>\n",
       "      <td>0.184810</td>\n",
       "    </tr>\n",
       "    <tr>\n",
       "      <th>std</th>\n",
       "      <td>0.839240</td>\n",
       "      <td>0.743651</td>\n",
       "      <td>4.581443</td>\n",
       "      <td>0.388636</td>\n",
       "    </tr>\n",
       "    <tr>\n",
       "      <th>min</th>\n",
       "      <td>1.000000</td>\n",
       "      <td>0.000000</td>\n",
       "      <td>0.000000</td>\n",
       "      <td>0.000000</td>\n",
       "    </tr>\n",
       "    <tr>\n",
       "      <th>25%</th>\n",
       "      <td>1.000000</td>\n",
       "      <td>0.000000</td>\n",
       "      <td>8.000000</td>\n",
       "      <td>0.000000</td>\n",
       "    </tr>\n",
       "    <tr>\n",
       "      <th>50%</th>\n",
       "      <td>2.000000</td>\n",
       "      <td>0.000000</td>\n",
       "      <td>11.000000</td>\n",
       "      <td>0.000000</td>\n",
       "    </tr>\n",
       "    <tr>\n",
       "      <th>75%</th>\n",
       "      <td>2.000000</td>\n",
       "      <td>0.000000</td>\n",
       "      <td>14.000000</td>\n",
       "      <td>0.000000</td>\n",
       "    </tr>\n",
       "    <tr>\n",
       "      <th>max</th>\n",
       "      <td>4.000000</td>\n",
       "      <td>3.000000</td>\n",
       "      <td>20.000000</td>\n",
       "      <td>1.000000</td>\n",
       "    </tr>\n",
       "  </tbody>\n",
       "</table>\n",
       "</div>"
      ],
      "text/plain": [
       "        studytime    failures          G3  qual_student\n",
       "count  395.000000  395.000000  395.000000    395.000000\n",
       "mean     2.035443    0.334177   10.415190      0.184810\n",
       "std      0.839240    0.743651    4.581443      0.388636\n",
       "min      1.000000    0.000000    0.000000      0.000000\n",
       "25%      1.000000    0.000000    8.000000      0.000000\n",
       "50%      2.000000    0.000000   11.000000      0.000000\n",
       "75%      2.000000    0.000000   14.000000      0.000000\n",
       "max      4.000000    3.000000   20.000000      1.000000"
      ]
     },
     "execution_count": 28,
     "metadata": {},
     "output_type": "execute_result"
    }
   ],
   "source": [
    "df.describe()"
   ]
  },
  {
   "cell_type": "markdown",
   "metadata": {},
   "source": [
    "Drop the G3 score"
   ]
  },
  {
   "cell_type": "code",
   "execution_count": 29,
   "metadata": {},
   "outputs": [],
   "source": [
    "include = ['school', 'schoolsup', 'higher','Mjob', 'Fjob', 'studytime', 'paid', 'failures', 'qual_student']\n",
    "df.drop(columns=df.columns.difference(include), inplace=True) "
   ]
  },
  {
   "cell_type": "markdown",
   "metadata": {},
   "source": [
    "Import scikit-learn and build a random forest classifer"
   ]
  },
  {
   "cell_type": "code",
   "execution_count": 30,
   "metadata": {},
   "outputs": [],
   "source": [
    "import sklearn\n",
    "from sklearn import preprocessing, neighbors, svm\n",
    "from sklearn.ensemble import RandomForestClassifier as rf\n",
    "from sklearn.model_selection import train_test_split\n",
    "\n",
    "dependent_variable = 'qual_student'\n",
    "\n",
    "df = pd.get_dummies(df, drop_first=True)\n",
    "# df = pd.concat(pd.get_dummies(df, drop_first=True), df,  axis=1)\n",
    "# df = pd.get_dummies(df, drop_first=True).astype(float)\n",
    "y = df[dependent_variable]\n",
    "X = df[df.columns.difference([dependent_variable])]\n",
    "# print(X)\n",
    "\n",
    "# print(df)\n",
    "\n",
    "# clf = rf(n_estimators = 1000)\n",
    "# clf.fit(x, y)\n",
    "\n",
    "#splitting the train and test sets\n",
    "X_train, X_test, y_train,y_test= train_test_split(X, y, test_size=0.3)"
   ]
  },
  {
   "cell_type": "code",
   "execution_count": 31,
   "metadata": {},
   "outputs": [
    {
     "name": "stderr",
     "output_type": "stream",
     "text": [
      "/root/.local/share/virtualenvs/fall-22-hw4-bill-and-teedy-s-excellent-adv-ObamcBOO/lib/python3.10/site-packages/sklearn/ensemble/_forest.py:427: FutureWarning: `max_features='auto'` has been deprecated in 1.1 and will be removed in 1.3. To keep the past behaviour, explicitly set `max_features='sqrt'` or remove this parameter as it is also the default value for RandomForestClassifiers and ExtraTreesClassifiers.\n",
      "  warn(\n",
      "[Parallel(n_jobs=-1)]: Using backend ThreadingBackend with 16 concurrent workers.\n",
      "[Parallel(n_jobs=-1)]: Done  18 tasks      | elapsed:    0.2s\n",
      "[Parallel(n_jobs=-1)]: Done 168 tasks      | elapsed:    0.4s\n",
      "[Parallel(n_jobs=-1)]: Done 418 tasks      | elapsed:    0.7s\n",
      "[Parallel(n_jobs=-1)]: Done 768 tasks      | elapsed:    1.2s\n",
      "[Parallel(n_jobs=-1)]: Done 1218 tasks      | elapsed:    1.8s\n",
      "[Parallel(n_jobs=-1)]: Done 1768 tasks      | elapsed:    2.5s\n",
      "[Parallel(n_jobs=-1)]: Done 2418 tasks      | elapsed:    3.3s\n",
      "[Parallel(n_jobs=-1)]: Done 3168 tasks      | elapsed:    4.3s\n",
      "[Parallel(n_jobs=-1)]: Done 4018 tasks      | elapsed:    5.4s\n",
      "[Parallel(n_jobs=-1)]: Done 4968 tasks      | elapsed:    6.6s\n",
      "[Parallel(n_jobs=-1)]: Done 5750 out of 5750 | elapsed:    7.7s finished\n"
     ]
    },
    {
     "name": "stdout",
     "output_type": "stream",
     "text": [
      "****Results****\n"
     ]
    },
    {
     "name": "stderr",
     "output_type": "stream",
     "text": [
      "[Parallel(n_jobs=16)]: Using backend ThreadingBackend with 16 concurrent workers.\n",
      "[Parallel(n_jobs=16)]: Done  18 tasks      | elapsed:    0.0s\n",
      "[Parallel(n_jobs=16)]: Done 168 tasks      | elapsed:    0.0s\n",
      "[Parallel(n_jobs=16)]: Done 418 tasks      | elapsed:    0.0s\n",
      "[Parallel(n_jobs=16)]: Done 768 tasks      | elapsed:    0.1s\n",
      "[Parallel(n_jobs=16)]: Done 1218 tasks      | elapsed:    0.1s\n",
      "[Parallel(n_jobs=16)]: Done 1768 tasks      | elapsed:    0.2s\n",
      "[Parallel(n_jobs=16)]: Done 2418 tasks      | elapsed:    0.3s\n",
      "[Parallel(n_jobs=16)]: Done 3168 tasks      | elapsed:    0.3s\n",
      "[Parallel(n_jobs=16)]: Done 4018 tasks      | elapsed:    0.4s\n"
     ]
    },
    {
     "name": "stdout",
     "output_type": "stream",
     "text": [
      "Accuracy: 80.6723%\n"
     ]
    },
    {
     "name": "stderr",
     "output_type": "stream",
     "text": [
      "[Parallel(n_jobs=16)]: Done 4968 tasks      | elapsed:    0.5s\n",
      "[Parallel(n_jobs=16)]: Done 5750 out of 5750 | elapsed:    0.6s finished\n"
     ]
    }
   ],
   "source": [
    "# pred = clf.predict(x)\n",
    "# sklearn.metrics.f1_score(y, pred, average='binary')\n",
    "\n",
    "rfc = rf(criterion='gini', \n",
    "        n_estimators=5750,\n",
    "        max_depth=5,\n",
    "        min_samples_split=6,\n",
    "        min_samples_leaf=6,\n",
    "        max_features='auto',\n",
    "        oob_score=True,\n",
    "        random_state=42,\n",
    "        n_jobs=-1,\n",
    "        verbose=1)\n",
    "\n",
    "rfc.fit(X_train, y_train)\n",
    "print('****Results****')\n",
    "print(\"Accuracy: {:.4%}\".format(rfc.score(X_test, y_test)))"
   ]
  },
  {
   "cell_type": "markdown",
   "metadata": {},
   "source": [
    "It's not very good! We didn't even cross validate. You'll need to do better :)\n",
    "Let's export this model so we can use it in a microservice (flask api)"
   ]
  },
  {
   "cell_type": "code",
   "execution_count": 32,
   "metadata": {},
   "outputs": [
    {
     "data": {
      "text/plain": [
       "['app/handlers/model3.pkl']"
      ]
     },
     "execution_count": 32,
     "metadata": {},
     "output_type": "execute_result"
    }
   ],
   "source": [
    "import joblib\n",
    "# modify the file path to where you want to save the model\n",
    "joblib.dump(rfc, 'app/handlers/model3.pkl')"
   ]
  },
  {
   "cell_type": "code",
   "execution_count": 33,
   "metadata": {},
   "outputs": [],
   "source": [
    "# print(X_train)\n",
    "# print(X_train.columns)\n",
    "query_df = pd.DataFrame({'Fjob_health' : pd.Series(0), \n",
    "                         'Fjob_other' : pd.Series(1), \n",
    "                         'Fjob_services': pd.Series(0),\n",
    "                         'Fjob_teacher': pd.Series(0),\n",
    "                         'Mjob_health': pd.Series(0),\n",
    "                         'Mjob_other': pd.Series(0),\n",
    "                         'Mjob_services': pd.Series(0),\n",
    "                         'Mjob_teacher': pd.Series(1),\n",
    "                         'failures': pd.Series(5),\n",
    "                         'higher_yes': pd.Series(1),\n",
    "                         'paid_yes': pd.Series(1),\n",
    "                         'school_MS': pd.Series(0),\n",
    "                         'studytime': pd.Series(20)})\n",
    "query_df = pd.get_dummies(query_df, drop_first=True).astype(float)"
   ]
  },
  {
   "cell_type": "code",
   "execution_count": 34,
   "metadata": {},
   "outputs": [
    {
     "name": "stderr",
     "output_type": "stream",
     "text": [
      "[Parallel(n_jobs=16)]: Using backend ThreadingBackend with 16 concurrent workers.\n",
      "[Parallel(n_jobs=16)]: Done  18 tasks      | elapsed:    0.0s\n",
      "[Parallel(n_jobs=16)]: Done 168 tasks      | elapsed:    0.0s\n",
      "[Parallel(n_jobs=16)]: Done 418 tasks      | elapsed:    0.1s\n",
      "[Parallel(n_jobs=16)]: Done 768 tasks      | elapsed:    0.1s\n",
      "[Parallel(n_jobs=16)]: Done 1218 tasks      | elapsed:    0.1s\n",
      "[Parallel(n_jobs=16)]: Done 1768 tasks      | elapsed:    0.2s\n",
      "[Parallel(n_jobs=16)]: Done 2418 tasks      | elapsed:    0.3s\n",
      "[Parallel(n_jobs=16)]: Done 3168 tasks      | elapsed:    0.3s\n",
      "[Parallel(n_jobs=16)]: Done 4018 tasks      | elapsed:    0.4s\n",
      "[Parallel(n_jobs=16)]: Done 4968 tasks      | elapsed:    0.5s\n",
      "[Parallel(n_jobs=16)]: Done 5750 out of 5750 | elapsed:    0.6s finished\n"
     ]
    }
   ],
   "source": [
    "pred = rfc.predict(query_df)"
   ]
  },
  {
   "cell_type": "code",
   "execution_count": 35,
   "metadata": {},
   "outputs": [
    {
     "data": {
      "text/plain": [
       "array([0])"
      ]
     },
     "execution_count": 35,
     "metadata": {},
     "output_type": "execute_result"
    }
   ],
   "source": [
    "pred"
   ]
  },
  {
   "cell_type": "code",
   "execution_count": 36,
   "metadata": {},
   "outputs": [
    {
     "data": {
      "text/plain": [
       "numpy.ndarray"
      ]
     },
     "execution_count": 36,
     "metadata": {},
     "output_type": "execute_result"
    }
   ],
   "source": [
    "type(pred)"
   ]
  },
  {
   "cell_type": "code",
   "execution_count": 130,
   "metadata": {},
   "outputs": [
    {
     "name": "stdout",
     "output_type": "stream",
     "text": [
      "73\n"
     ]
    },
    {
     "name": "stderr",
     "output_type": "stream",
     "text": [
      "/root/.local/share/virtualenvs/fall-22-hw4-bill-and-teedy-s-excellent-adv-ObamcBOO/lib/python3.10/site-packages/sklearn/ensemble/_forest.py:427: FutureWarning: `max_features='auto'` has been deprecated in 1.1 and will be removed in 1.3. To keep the past behaviour, explicitly set `max_features='sqrt'` or remove this parameter as it is also the default value for RandomForestClassifiers and ExtraTreesClassifiers.\n",
      "  warn(\n",
      "[Parallel(n_jobs=-1)]: Using backend ThreadingBackend with 16 concurrent workers.\n",
      "[Parallel(n_jobs=-1)]: Done  18 tasks      | elapsed:    0.1s\n",
      "[Parallel(n_jobs=-1)]: Done 168 tasks      | elapsed:    0.3s\n",
      "[Parallel(n_jobs=-1)]: Done 418 tasks      | elapsed:    0.7s\n",
      "[Parallel(n_jobs=-1)]: Done 768 tasks      | elapsed:    1.2s\n",
      "[Parallel(n_jobs=-1)]: Done 1218 tasks      | elapsed:    1.8s\n",
      "[Parallel(n_jobs=-1)]: Done 1768 tasks      | elapsed:    2.6s\n",
      "[Parallel(n_jobs=-1)]: Done 2418 tasks      | elapsed:    3.5s\n",
      "[Parallel(n_jobs=-1)]: Done 3168 tasks      | elapsed:    4.6s\n",
      "[Parallel(n_jobs=-1)]: Done 4018 tasks      | elapsed:    5.7s\n",
      "[Parallel(n_jobs=-1)]: Done 4968 tasks      | elapsed:    7.1s\n",
      "[Parallel(n_jobs=-1)]: Done 6018 tasks      | elapsed:    8.6s\n",
      "[Parallel(n_jobs=-1)]: Done 7168 tasks      | elapsed:   10.2s\n",
      "[Parallel(n_jobs=-1)]: Done 8418 tasks      | elapsed:   11.9s\n",
      "[Parallel(n_jobs=-1)]: Done 9768 tasks      | elapsed:   13.8s\n",
      "[Parallel(n_jobs=-1)]: Done 11218 tasks      | elapsed:   15.8s\n",
      "[Parallel(n_jobs=-1)]: Done 12768 tasks      | elapsed:   17.9s\n",
      "[Parallel(n_jobs=-1)]: Done 14418 tasks      | elapsed:   20.2s\n",
      "[Parallel(n_jobs=-1)]: Done 15750 out of 15750 | elapsed:   22.0s finished\n"
     ]
    },
    {
     "name": "stdout",
     "output_type": "stream",
     "text": [
      "Index(['Dalc', 'Fedu', 'Fjob_teacher', 'Medu', 'Mjob_other', 'Mjob_services',\n",
      "       'Walc', 'absences', 'age', 'failures', 'famrel', 'famsup_no',\n",
      "       'famsup_yes', 'freetime', 'goout', 'health', 'sex_F', 'sex_M',\n",
      "       'studytime'],\n",
      "      dtype='object')\n"
     ]
    }
   ],
   "source": [
    "# from sklearn.feature_selection import SequentialFeatureSelector\n",
    "from sklearn.feature_selection import SelectFromModel\n",
    "\n",
    "rfc = rf(criterion='gini', \n",
    "        n_estimators=15750,\n",
    "        max_depth=25,\n",
    "        min_samples_split=5,\n",
    "        min_samples_leaf=5,\n",
    "        max_features='auto',\n",
    "        oob_score=True,\n",
    "        random_state=42,\n",
    "        n_jobs=-1,\n",
    "        verbose=1)\n",
    "\n",
    "\n",
    "## Testing Features\n",
    "df = pd.read_csv('data/student-mat.csv', sep=';')\n",
    "df['qual_student'] = np.where(df['G3']>=15, 1, 0)\n",
    "df.drop(columns=['G3', 'G2', 'G1'], inplace=True) \n",
    "\n",
    "\n",
    "# print(df.select_dtypes(exclude=[\"number\",\"bool_\"]).columns)\n",
    "df = pd.get_dummies(df, columns = df.select_dtypes(exclude=[\"number\",\"bool_\"]).columns)\n",
    "print(sum(df['qual_student']))\n",
    "\n",
    "y = df['qual_student']\n",
    "X = df[df.columns.difference(['qual_student'])]\n",
    "\n",
    "\n",
    "X_train, X_test, y_train, y_test = train_test_split(X,y,test_size=0.3)\n",
    "\n",
    "sel = SelectFromModel(rfc)\n",
    "sel.fit(X_train, y_train)\n",
    "\n",
    "selected_feat= X_train.columns[(sel.get_support())]\n",
    "len(selected_feat)\n",
    "\n",
    "print(selected_feat)\n",
    "\n",
    "# print(df.isnull().sum())"
   ]
  },
  {
   "cell_type": "code",
   "execution_count": 131,
   "metadata": {},
   "outputs": [
    {
     "name": "stderr",
     "output_type": "stream",
     "text": [
      "/root/.local/share/virtualenvs/fall-22-hw4-bill-and-teedy-s-excellent-adv-ObamcBOO/lib/python3.10/site-packages/sklearn/ensemble/_forest.py:427: FutureWarning: `max_features='auto'` has been deprecated in 1.1 and will be removed in 1.3. To keep the past behaviour, explicitly set `max_features='sqrt'` or remove this parameter as it is also the default value for RandomForestClassifiers and ExtraTreesClassifiers.\n",
      "  warn(\n",
      "[Parallel(n_jobs=-1)]: Using backend ThreadingBackend with 16 concurrent workers.\n",
      "[Parallel(n_jobs=-1)]: Done  18 tasks      | elapsed:    0.0s\n",
      "[Parallel(n_jobs=-1)]: Done 168 tasks      | elapsed:    0.3s\n",
      "[Parallel(n_jobs=-1)]: Done 418 tasks      | elapsed:    0.6s\n",
      "[Parallel(n_jobs=-1)]: Done 768 tasks      | elapsed:    1.1s\n",
      "[Parallel(n_jobs=-1)]: Done 1218 tasks      | elapsed:    1.7s\n",
      "[Parallel(n_jobs=-1)]: Done 1768 tasks      | elapsed:    2.5s\n",
      "[Parallel(n_jobs=-1)]: Done 2418 tasks      | elapsed:    3.4s\n",
      "[Parallel(n_jobs=-1)]: Done 3168 tasks      | elapsed:    4.4s\n",
      "[Parallel(n_jobs=-1)]: Done 4018 tasks      | elapsed:    5.6s\n",
      "[Parallel(n_jobs=-1)]: Done 4968 tasks      | elapsed:    7.0s\n",
      "[Parallel(n_jobs=-1)]: Done 6018 tasks      | elapsed:    8.4s\n",
      "[Parallel(n_jobs=-1)]: Done 7168 tasks      | elapsed:   10.0s\n",
      "[Parallel(n_jobs=-1)]: Done 8418 tasks      | elapsed:   11.7s\n",
      "[Parallel(n_jobs=-1)]: Done 9768 tasks      | elapsed:   13.6s\n",
      "[Parallel(n_jobs=-1)]: Done 11218 tasks      | elapsed:   15.6s\n",
      "[Parallel(n_jobs=-1)]: Done 12768 tasks      | elapsed:   17.7s\n",
      "[Parallel(n_jobs=-1)]: Done 14418 tasks      | elapsed:   20.0s\n",
      "[Parallel(n_jobs=-1)]: Done 15750 out of 15750 | elapsed:   21.8s finished\n"
     ]
    },
    {
     "name": "stdout",
     "output_type": "stream",
     "text": [
      "Index(['Fedu', 'Medu', 'Walc', 'absences', 'age', 'failures', 'freetime',\n",
      "       'goout', 'health'],\n",
      "      dtype='object')\n"
     ]
    }
   ],
   "source": [
    "# print(df.columns)\n",
    "col = df.columns.difference(selected_feat)\n",
    "# print(col)\n",
    "X = df[df.columns.difference(col)]\n",
    "\n",
    "\n",
    "X_train, X_test, y_train, y_test = train_test_split(X,y,test_size=0.3)\n",
    "\n",
    "sel = SelectFromModel(rfc)\n",
    "sel.fit(X_train, y_train)\n",
    "\n",
    "selected_feat= X_train.columns[(sel.get_support())]\n",
    "len(selected_feat)\n",
    "\n",
    "print(selected_feat)"
   ]
  },
  {
   "cell_type": "code",
   "execution_count": 132,
   "metadata": {},
   "outputs": [
    {
     "name": "stderr",
     "output_type": "stream",
     "text": [
      "/root/.local/share/virtualenvs/fall-22-hw4-bill-and-teedy-s-excellent-adv-ObamcBOO/lib/python3.10/site-packages/sklearn/ensemble/_forest.py:427: FutureWarning: `max_features='auto'` has been deprecated in 1.1 and will be removed in 1.3. To keep the past behaviour, explicitly set `max_features='sqrt'` or remove this parameter as it is also the default value for RandomForestClassifiers and ExtraTreesClassifiers.\n",
      "  warn(\n",
      "[Parallel(n_jobs=-1)]: Using backend ThreadingBackend with 16 concurrent workers.\n",
      "[Parallel(n_jobs=-1)]: Done  18 tasks      | elapsed:    0.0s\n",
      "[Parallel(n_jobs=-1)]: Done 168 tasks      | elapsed:    0.3s\n",
      "[Parallel(n_jobs=-1)]: Done 418 tasks      | elapsed:    0.6s\n",
      "[Parallel(n_jobs=-1)]: Done 768 tasks      | elapsed:    1.1s\n",
      "[Parallel(n_jobs=-1)]: Done 1218 tasks      | elapsed:    1.7s\n",
      "[Parallel(n_jobs=-1)]: Done 1768 tasks      | elapsed:    2.5s\n",
      "[Parallel(n_jobs=-1)]: Done 2418 tasks      | elapsed:    3.4s\n",
      "[Parallel(n_jobs=-1)]: Done 3168 tasks      | elapsed:    4.4s\n",
      "[Parallel(n_jobs=-1)]: Done 4018 tasks      | elapsed:    5.6s\n",
      "[Parallel(n_jobs=-1)]: Done 4968 tasks      | elapsed:    7.0s\n",
      "[Parallel(n_jobs=-1)]: Done 6018 tasks      | elapsed:    8.4s\n",
      "[Parallel(n_jobs=-1)]: Done 7168 tasks      | elapsed:   10.1s\n",
      "[Parallel(n_jobs=-1)]: Done 8418 tasks      | elapsed:   12.0s\n",
      "[Parallel(n_jobs=-1)]: Done 9768 tasks      | elapsed:   14.0s\n",
      "[Parallel(n_jobs=-1)]: Done 11218 tasks      | elapsed:   16.1s\n",
      "[Parallel(n_jobs=-1)]: Done 12768 tasks      | elapsed:   18.2s\n",
      "[Parallel(n_jobs=-1)]: Done 14418 tasks      | elapsed:   20.6s\n",
      "[Parallel(n_jobs=-1)]: Done 15750 out of 15750 | elapsed:   22.5s finished\n"
     ]
    },
    {
     "name": "stdout",
     "output_type": "stream",
     "text": [
      "****Results****\n"
     ]
    },
    {
     "name": "stderr",
     "output_type": "stream",
     "text": [
      "[Parallel(n_jobs=16)]: Using backend ThreadingBackend with 16 concurrent workers.\n",
      "[Parallel(n_jobs=16)]: Done  18 tasks      | elapsed:    0.0s\n",
      "[Parallel(n_jobs=16)]: Done 168 tasks      | elapsed:    0.0s\n",
      "[Parallel(n_jobs=16)]: Done 418 tasks      | elapsed:    0.1s\n",
      "[Parallel(n_jobs=16)]: Done 768 tasks      | elapsed:    0.1s\n",
      "[Parallel(n_jobs=16)]: Done 1218 tasks      | elapsed:    0.2s\n",
      "[Parallel(n_jobs=16)]: Done 1768 tasks      | elapsed:    0.2s\n",
      "[Parallel(n_jobs=16)]: Done 2418 tasks      | elapsed:    0.3s\n",
      "[Parallel(n_jobs=16)]: Done 3168 tasks      | elapsed:    0.4s\n",
      "[Parallel(n_jobs=16)]: Done 4018 tasks      | elapsed:    0.5s\n",
      "[Parallel(n_jobs=16)]: Done 4968 tasks      | elapsed:    0.6s\n",
      "[Parallel(n_jobs=16)]: Done 6018 tasks      | elapsed:    0.7s\n",
      "[Parallel(n_jobs=16)]: Done 7168 tasks      | elapsed:    0.9s\n",
      "[Parallel(n_jobs=16)]: Done 8418 tasks      | elapsed:    1.0s\n",
      "[Parallel(n_jobs=16)]: Done 9768 tasks      | elapsed:    1.2s\n",
      "[Parallel(n_jobs=16)]: Done 11218 tasks      | elapsed:    1.4s\n",
      "[Parallel(n_jobs=16)]: Done 12768 tasks      | elapsed:    1.6s\n"
     ]
    },
    {
     "name": "stdout",
     "output_type": "stream",
     "text": [
      "Accuracy: 81.5126%\n"
     ]
    },
    {
     "name": "stderr",
     "output_type": "stream",
     "text": [
      "[Parallel(n_jobs=16)]: Done 14418 tasks      | elapsed:    1.8s\n",
      "[Parallel(n_jobs=16)]: Done 15750 out of 15750 | elapsed:    1.9s finished\n"
     ]
    }
   ],
   "source": [
    "df = pd.read_csv('data/student-mat.csv', sep=';')\n",
    "df['qual_student'] = np.where(df['G3']>=15, 1, 0)\n",
    "df.drop(columns=['G3', 'G2', 'G1'], inplace=True) \n",
    "\n",
    "top_values = selected_feat\n",
    "\n",
    "df = pd.get_dummies(df, columns = df.select_dtypes(exclude=[\"number\",\"bool_\"]).columns)\n",
    "\n",
    "y = df['qual_student']\n",
    "X = df[df.columns.difference(['qual_student'])]\n",
    "col = df.columns.difference(top_values)\n",
    "# print(col)\n",
    "X = df[df.columns.difference(col)]\n",
    "# print(X.columns)\n",
    "# print(X)\n",
    "\n",
    "# print(df.select_dtypes(exclude=[\"number\",\"bool_\"]).columns)\n",
    "\n",
    "# print(sum(df['qual_student']))\n",
    "\n",
    "# rfc = rf(criterion='gini', \n",
    "        # n_estimators=5750,\n",
    "        # max_depth=5,\n",
    "        # min_samples_split=6,\n",
    "        # min_samples_leaf=6,\n",
    "        # max_features='auto',\n",
    "        # oob_score=True,\n",
    "        # random_state=42,\n",
    "        # n_jobs=-1,\n",
    "        # verbose=1)\n",
    "X_train, X_test, y_train, y_test = train_test_split(X,y,test_size=0.3)\n",
    "\n",
    "rfc.fit(X_train, y_train)\n",
    "print('****Results****')\n",
    "print(\"Accuracy: {:.4%}\".format(rfc.score(X_test, y_test)))"
   ]
  },
  {
   "cell_type": "code",
   "execution_count": 133,
   "metadata": {},
   "outputs": [],
   "source": [
    "# df = pd.read_csv('data/student-mat.csv', sep=';')\n",
    "# df['qual_student'] = np.where(df['G3']>=15, 1, 0)\n",
    "# df.drop(columns=['G3', 'G2', 'G1'], inplace=True) \n",
    "\n",
    "# top_values = ['failures', 'schoolsup', 'internet', 'studytime', 'absences','Medu','Fedu','paid','famsup']\n",
    "\n",
    "# df = pd.get_dummies(df, columns = df.select_dtypes(exclude=[\"number\",\"bool_\"]).columns)\n",
    "\n",
    "# y = df['qual_student']\n",
    "# X = df[df.columns.difference(['qual_student'])]\n",
    "# col = df.columns.difference(top_values)\n",
    "# print(col)\n",
    "# X = df[df.columns.difference(col)]\n",
    "# print(X.columns)\n",
    "# # print(X)\n",
    "\n",
    "# # print(df.select_dtypes(exclude=[\"number\",\"bool_\"]).columns)\n",
    "\n",
    "# # print(sum(df['qual_student']))\n",
    "\n",
    "# # rfc = rf(criterion='gini', \n",
    "#         # n_estimators=5750,\n",
    "#         # max_depth=5,\n",
    "#         # min_samples_split=6,\n",
    "#         # min_samples_leaf=6,\n",
    "#         # max_features='auto',\n",
    "#         # oob_score=True,\n",
    "#         # random_state=42,\n",
    "#         # n_jobs=-1,\n",
    "#         # verbose=1)\n",
    "# X_train, X_test, y_train, y_test = train_test_split(X,y,test_size=0.3)\n",
    "\n",
    "# rfc.fit(X_train, y_train)\n",
    "# print('****Results****')\n",
    "# print(\"Accuracy: {:.4%}\".format(rfc.score(X_test, y_test)))"
   ]
  },
  {
   "cell_type": "code",
   "execution_count": 134,
   "metadata": {},
   "outputs": [
    {
     "name": "stdout",
     "output_type": "stream",
     "text": [
      "Index(['Dalc', 'Fedu', 'Fjob_at_home', 'Fjob_health', 'Fjob_other',\n",
      "       'Fjob_services', 'Fjob_teacher', 'Medu', 'Mjob_at_home', 'Mjob_health',\n",
      "       'Mjob_other', 'Mjob_services', 'Mjob_teacher', 'Pstatus_A', 'Pstatus_T',\n",
      "       'Walc', 'absences', 'activities_no', 'activities_yes', 'address_R',\n",
      "       'address_U', 'age', 'failures', 'famrel', 'famsize_GT3', 'famsize_LE3',\n",
      "       'famsup_no', 'famsup_yes', 'freetime', 'goout', 'guardian_father',\n",
      "       'guardian_mother', 'guardian_other', 'health', 'higher_no',\n",
      "       'higher_yes', 'internet_no', 'internet_yes', 'nursery_no',\n",
      "       'nursery_yes', 'paid_no', 'paid_yes', 'reason_course', 'reason_home',\n",
      "       'reason_other', 'reason_reputation', 'romantic_no', 'romantic_yes',\n",
      "       'school_GP', 'school_MS', 'schoolsup_no', 'schoolsup_yes', 'sex_F',\n",
      "       'sex_M', 'studytime', 'traveltime'],\n",
      "      dtype='object')\n"
     ]
    },
    {
     "name": "stderr",
     "output_type": "stream",
     "text": [
      "/root/.local/share/virtualenvs/fall-22-hw4-bill-and-teedy-s-excellent-adv-ObamcBOO/lib/python3.10/site-packages/sklearn/ensemble/_forest.py:427: FutureWarning: `max_features='auto'` has been deprecated in 1.1 and will be removed in 1.3. To keep the past behaviour, explicitly set `max_features='sqrt'` or remove this parameter as it is also the default value for RandomForestClassifiers and ExtraTreesClassifiers.\n",
      "  warn(\n",
      "[Parallel(n_jobs=-1)]: Using backend ThreadingBackend with 16 concurrent workers.\n",
      "[Parallel(n_jobs=-1)]: Done  18 tasks      | elapsed:    0.1s\n",
      "[Parallel(n_jobs=-1)]: Done 168 tasks      | elapsed:    0.3s\n",
      "[Parallel(n_jobs=-1)]: Done 418 tasks      | elapsed:    0.6s\n",
      "[Parallel(n_jobs=-1)]: Done 768 tasks      | elapsed:    1.1s\n",
      "[Parallel(n_jobs=-1)]: Done 1218 tasks      | elapsed:    1.8s\n",
      "[Parallel(n_jobs=-1)]: Done 1768 tasks      | elapsed:    2.6s\n",
      "[Parallel(n_jobs=-1)]: Done 2418 tasks      | elapsed:    3.6s\n",
      "[Parallel(n_jobs=-1)]: Done 3168 tasks      | elapsed:    4.7s\n",
      "[Parallel(n_jobs=-1)]: Done 4018 tasks      | elapsed:    5.9s\n",
      "[Parallel(n_jobs=-1)]: Done 4968 tasks      | elapsed:    7.3s\n",
      "[Parallel(n_jobs=-1)]: Done 5750 out of 5750 | elapsed:    8.4s finished\n"
     ]
    },
    {
     "name": "stdout",
     "output_type": "stream",
     "text": [
      "****Results****\n"
     ]
    },
    {
     "name": "stderr",
     "output_type": "stream",
     "text": [
      "[Parallel(n_jobs=16)]: Using backend ThreadingBackend with 16 concurrent workers.\n",
      "[Parallel(n_jobs=16)]: Done  18 tasks      | elapsed:    0.0s\n",
      "[Parallel(n_jobs=16)]: Done 168 tasks      | elapsed:    0.0s\n",
      "[Parallel(n_jobs=16)]: Done 418 tasks      | elapsed:    0.1s\n",
      "[Parallel(n_jobs=16)]: Done 768 tasks      | elapsed:    0.1s\n",
      "[Parallel(n_jobs=16)]: Done 1218 tasks      | elapsed:    0.1s\n",
      "[Parallel(n_jobs=16)]: Done 1768 tasks      | elapsed:    0.2s\n",
      "[Parallel(n_jobs=16)]: Done 2418 tasks      | elapsed:    0.3s\n",
      "[Parallel(n_jobs=16)]: Done 3168 tasks      | elapsed:    0.4s\n",
      "[Parallel(n_jobs=16)]: Done 4018 tasks      | elapsed:    0.5s\n",
      "[Parallel(n_jobs=16)]: Done 4968 tasks      | elapsed:    0.6s\n",
      "[Parallel(n_jobs=16)]: Done 5750 out of 5750 | elapsed:    0.7s finished\n"
     ]
    },
    {
     "name": "stdout",
     "output_type": "stream",
     "text": [
      "Accuracy: 76.4706%\n",
      "[0.02031899 0.03735082 0.00182956 0.00066539 0.01573531 0.01192788\n",
      " 0.05307593 0.06818414 0.00509538 0.00385141 0.01604049 0.0236705\n",
      " 0.01110077 0.00666576 0.00606719 0.0528949  0.06645338 0.01276101\n",
      " 0.01308542 0.00548815 0.00550612 0.04222283 0.024135   0.02338157\n",
      " 0.00903064 0.01007628 0.01182745 0.01080023 0.03964224 0.03761418\n",
      " 0.00752856 0.01161217 0.00098117 0.06623762 0.00066166 0.00073613\n",
      " 0.00538753 0.00556326 0.00546181 0.00549318 0.01951978 0.01990349\n",
      " 0.01399318 0.00721413 0.0020373  0.01094098 0.01208624 0.01221892\n",
      " 0.00402713 0.00320583 0.00925218 0.00952256 0.03502869 0.03571753\n",
      " 0.03456942 0.01460067]\n",
      "             variable  importance\n",
      "7                Medu    0.068184\n",
      "16           absences    0.066453\n",
      "33             health    0.066238\n",
      "6        Fjob_teacher    0.053076\n",
      "15               Walc    0.052895\n",
      "21                age    0.042223\n",
      "28           freetime    0.039642\n",
      "29              goout    0.037614\n",
      "1                Fedu    0.037351\n",
      "53              sex_M    0.035718\n",
      "52              sex_F    0.035029\n",
      "54          studytime    0.034569\n",
      "22           failures    0.024135\n",
      "11      Mjob_services    0.023671\n",
      "23             famrel    0.023382\n",
      "0                Dalc    0.020319\n",
      "41           paid_yes    0.019903\n",
      "40            paid_no    0.019520\n",
      "10         Mjob_other    0.016040\n",
      "4          Fjob_other    0.015735\n",
      "55         traveltime    0.014601\n",
      "42      reason_course    0.013993\n",
      "18     activities_yes    0.013085\n",
      "17      activities_no    0.012761\n",
      "47       romantic_yes    0.012219\n",
      "46        romantic_no    0.012086\n",
      "5       Fjob_services    0.011928\n",
      "26          famsup_no    0.011827\n",
      "31    guardian_mother    0.011612\n",
      "12       Mjob_teacher    0.011101\n",
      "45  reason_reputation    0.010941\n",
      "27         famsup_yes    0.010800\n",
      "25        famsize_LE3    0.010076\n",
      "51      schoolsup_yes    0.009523\n",
      "50       schoolsup_no    0.009252\n",
      "24        famsize_GT3    0.009031\n",
      "30    guardian_father    0.007529\n",
      "43        reason_home    0.007214\n",
      "13          Pstatus_A    0.006666\n",
      "14          Pstatus_T    0.006067\n",
      "37       internet_yes    0.005563\n",
      "20          address_U    0.005506\n",
      "39        nursery_yes    0.005493\n",
      "19          address_R    0.005488\n",
      "38         nursery_no    0.005462\n",
      "36        internet_no    0.005388\n",
      "8        Mjob_at_home    0.005095\n",
      "48          school_GP    0.004027\n",
      "9         Mjob_health    0.003851\n",
      "49          school_MS    0.003206\n",
      "44       reason_other    0.002037\n",
      "2        Fjob_at_home    0.001830\n",
      "32     guardian_other    0.000981\n",
      "35         higher_yes    0.000736\n",
      "3         Fjob_health    0.000665\n",
      "34          higher_no    0.000662\n"
     ]
    }
   ],
   "source": [
    "df = pd.read_csv('data/student-mat.csv', sep=';')\n",
    "df['qual_student'] = np.where(df['G3']>=15, 1, 0)\n",
    "df.drop(columns=['G3', 'G2', 'G1'], inplace=True) \n",
    "\n",
    "# top_values = ['failures', 'schoolsup', 'internet', 'studytime', 'absences','Medu','Fedu','paid','famsup']\n",
    "\n",
    "df = pd.get_dummies(df, columns = df.select_dtypes(exclude=[\"number\",\"bool_\"]).columns)\n",
    "\n",
    "y = df['qual_student']\n",
    "X = df[df.columns.difference(['qual_student'])]\n",
    "print(X.columns)\n",
    "# print(X)\n",
    "\n",
    "# print(df.select_dtypes(exclude=[\"number\",\"bool_\"]).columns)\n",
    "\n",
    "# print(sum(df['qual_student']))\n",
    "\n",
    "rfc = rf(criterion='gini', \n",
    "        n_estimators=5750,\n",
    "        max_depth=25,\n",
    "        min_samples_split=5,\n",
    "        min_samples_leaf=5,\n",
    "        max_features='auto',\n",
    "        oob_score=True,\n",
    "        random_state=42,\n",
    "        n_jobs=-1,\n",
    "        verbose=1)\n",
    "X_train, X_test, y_train, y_test = train_test_split(X,y,test_size=0.3)\n",
    "\n",
    "rfc.fit(X_train, y_train)\n",
    "print('****Results****')\n",
    "print(\"Accuracy: {:.4%}\".format(rfc.score(X_test, y_test)))\n",
    "\n",
    "print(rfc.feature_importances_)\n",
    "importances_df = pd.DataFrame({'variable':X_train.columns, 'importance': rfc.feature_importances_})\n",
    "top_N = importances_df.sort_values(by=['importance'], ascending=False)\n",
    "print(top_N)"
   ]
  },
  {
   "cell_type": "code",
   "execution_count": 135,
   "metadata": {},
   "outputs": [
    {
     "name": "stdout",
     "output_type": "stream",
     "text": [
      "Index(['Medu', 'Walc', 'absences', 'age', 'health'], dtype='object')\n"
     ]
    },
    {
     "name": "stderr",
     "output_type": "stream",
     "text": [
      "/root/.local/share/virtualenvs/fall-22-hw4-bill-and-teedy-s-excellent-adv-ObamcBOO/lib/python3.10/site-packages/sklearn/ensemble/_forest.py:427: FutureWarning: `max_features='auto'` has been deprecated in 1.1 and will be removed in 1.3. To keep the past behaviour, explicitly set `max_features='sqrt'` or remove this parameter as it is also the default value for RandomForestClassifiers and ExtraTreesClassifiers.\n",
      "  warn(\n",
      "[Parallel(n_jobs=-1)]: Using backend ThreadingBackend with 16 concurrent workers.\n",
      "[Parallel(n_jobs=-1)]: Done  18 tasks      | elapsed:    0.0s\n",
      "[Parallel(n_jobs=-1)]: Done 168 tasks      | elapsed:    0.3s\n",
      "[Parallel(n_jobs=-1)]: Done 418 tasks      | elapsed:    0.6s\n",
      "[Parallel(n_jobs=-1)]: Done 768 tasks      | elapsed:    1.1s\n",
      "[Parallel(n_jobs=-1)]: Done 1218 tasks      | elapsed:    1.8s\n",
      "[Parallel(n_jobs=-1)]: Done 1768 tasks      | elapsed:    2.6s\n",
      "[Parallel(n_jobs=-1)]: Done 2418 tasks      | elapsed:    3.5s\n",
      "[Parallel(n_jobs=-1)]: Done 3168 tasks      | elapsed:    4.6s\n",
      "[Parallel(n_jobs=-1)]: Done 4018 tasks      | elapsed:    5.8s\n",
      "[Parallel(n_jobs=-1)]: Done 4968 tasks      | elapsed:    7.3s\n",
      "[Parallel(n_jobs=-1)]: Done 5750 out of 5750 | elapsed:    8.3s finished\n"
     ]
    },
    {
     "name": "stdout",
     "output_type": "stream",
     "text": [
      "****Results****\n"
     ]
    },
    {
     "name": "stderr",
     "output_type": "stream",
     "text": [
      "[Parallel(n_jobs=16)]: Using backend ThreadingBackend with 16 concurrent workers.\n",
      "[Parallel(n_jobs=16)]: Done  18 tasks      | elapsed:    0.0s\n",
      "[Parallel(n_jobs=16)]: Done 168 tasks      | elapsed:    0.0s\n",
      "[Parallel(n_jobs=16)]: Done 418 tasks      | elapsed:    0.1s\n",
      "[Parallel(n_jobs=16)]: Done 768 tasks      | elapsed:    0.1s\n",
      "[Parallel(n_jobs=16)]: Done 1218 tasks      | elapsed:    0.1s\n",
      "[Parallel(n_jobs=16)]: Done 1768 tasks      | elapsed:    0.4s\n",
      "[Parallel(n_jobs=16)]: Done 2418 tasks      | elapsed:    0.5s\n",
      "[Parallel(n_jobs=16)]: Done 3168 tasks      | elapsed:    0.5s\n"
     ]
    },
    {
     "name": "stdout",
     "output_type": "stream",
     "text": [
      "Accuracy: 75.6303%\n"
     ]
    },
    {
     "name": "stderr",
     "output_type": "stream",
     "text": [
      "[Parallel(n_jobs=16)]: Done 4018 tasks      | elapsed:    0.6s\n",
      "[Parallel(n_jobs=16)]: Done 4968 tasks      | elapsed:    0.7s\n",
      "[Parallel(n_jobs=16)]: Done 5750 out of 5750 | elapsed:    0.8s finished\n"
     ]
    }
   ],
   "source": [
    "most_important_features =  ['Medu', 'health', 'absences', 'age', 'Walc']\n",
    "\n",
    "df = pd.read_csv('data/student-mat.csv', sep=';')\n",
    "df['qual_student'] = np.where(df['G3']>=15, 1, 0)\n",
    "df.drop(columns=['G3', 'G2', 'G1'], inplace=True) \n",
    "\n",
    "# top_values = ['failures', 'schoolsup', 'internet', 'studytime', 'absences','Medu','Fedu','paid','famsup']\n",
    "\n",
    "df = pd.get_dummies(df, columns = df.select_dtypes(exclude=[\"number\",\"bool_\"]).columns)\n",
    "\n",
    "y = df['qual_student']\n",
    "col = df.columns.difference(most_important_features)\n",
    "X = df[df.columns.difference(col)]\n",
    "print(X.columns)\n",
    "\n",
    "# print(df.select_dtypes(exclude=[\"number\",\"bool_\"]).columns)\n",
    "\n",
    "# print(sum(df['qual_student']))\n",
    "\n",
    "rfc = rf(criterion='gini', \n",
    "        n_estimators=5750,\n",
    "        max_depth=20,\n",
    "        min_samples_split=5,\n",
    "        min_samples_leaf=5,\n",
    "        max_features='auto',\n",
    "        oob_score=True,\n",
    "        random_state=42,\n",
    "        n_jobs=-1,\n",
    "        verbose=1)\n",
    "X_train, X_test, y_train, y_test = train_test_split(X,y,test_size=0.3)\n",
    "\n",
    "rfc.fit(X_train, y_train)\n",
    "print('****Results****')\n",
    "print(\"Accuracy: {:.4%}\".format(rfc.score(X_test, y_test)))"
   ]
  },
  {
   "cell_type": "code",
   "execution_count": 136,
   "metadata": {},
   "outputs": [],
   "source": [
    "# joblib.dump(rfc, 'app/handlers/model_tests.pkl')"
   ]
  },
  {
   "cell_type": "code",
   "execution_count": 162,
   "metadata": {},
   "outputs": [
    {
     "name": "stdout",
     "output_type": "stream",
     "text": [
      "Index(['Fedu', 'Medu', 'Walc', 'absences', 'age', 'failures', 'freetime',\n",
      "       'goout', 'health', 'Fjob_at_home', 'Fjob_health', 'Fjob_other',\n",
      "       'Fjob_services', 'Fjob_teacher'],\n",
      "      dtype='object')\n",
      "{'max_depth': 9, 'max_features': 'sqrt', 'min_samples_leaf': 2, 'min_samples_split': 4}\n"
     ]
    }
   ],
   "source": [
    "from sklearn.model_selection import GridSearchCV\n",
    "\n",
    "rfc2 = rf(criterion='gini', \n",
    "        n_estimators=7000,\n",
    "        oob_score=True,\n",
    "        random_state=42,\n",
    "        n_jobs=-1,\n",
    "        verbose=0)\n",
    "\n",
    "df = pd.read_csv('data/student-mat.csv', sep=';')\n",
    "df['qual_student'] = np.where(df['G3']>=15, 1, 0)\n",
    "df.drop(columns=['G3', 'G2', 'G1'], inplace=True) \n",
    "\n",
    "# top_values = ['failures', 'schoolsup', 'internet', 'studytime', 'absences','Medu','Fedu','paid','famsup']\n",
    "\n",
    "\n",
    "\n",
    "y = df['qual_student']\n",
    "col = df.columns.difference(['Fedu', 'Medu', 'Walc', 'absences', 'age', 'failures', 'freetime',\n",
    "       'goout', 'health'])\n",
    "# print(col)\n",
    "X = df[df.columns.difference(col)]\n",
    "X = pd.get_dummies(X, columns = X.select_dtypes(exclude=[\"number\",\"bool_\"]).columns)\n",
    "# X = X.drop(['Fjob_other', 'Fjob_health', 'Fjob_services', 'Fjob_other'])\n",
    "print(X.columns)\n",
    "\n",
    "X_train, X_test, y_train, y_test = train_test_split(X,y,test_size=0.3)\n",
    "\n",
    "param_grid = { \n",
    "    'max_features': ['sqrt'],\n",
    "    'max_depth' : [5, 7, 9, 12],\n",
    "    'min_samples_split': [4,6,8],\n",
    "    'min_samples_leaf': [1, 2, 3]\n",
    "}\n",
    "\n",
    "CV_rfc = GridSearchCV(estimator=rfc2, param_grid=param_grid, cv= 5)\n",
    "CV_rfc.fit(X_train, y_train)\n",
    "print (CV_rfc.best_params_)\n",
    "# print('****Results****')\n",
    "# print(\"Accuracy: {:.4%}\".format(rfc.score(X_test, y_test)))"
   ]
  },
  {
   "cell_type": "code",
   "execution_count": 163,
   "metadata": {},
   "outputs": [
    {
     "name": "stdout",
     "output_type": "stream",
     "text": [
      "Accuracy: 76.4706%\n"
     ]
    }
   ],
   "source": [
    "print(\"Accuracy: {:.4%}\".format(CV_rfc.best_estimator_.score(X_test, y_test)))"
   ]
  },
  {
   "cell_type": "code",
   "execution_count": 164,
   "metadata": {},
   "outputs": [
    {
     "name": "stdout",
     "output_type": "stream",
     "text": [
      "         variable  importance\n",
      "3        absences    0.142653\n",
      "8          health    0.127777\n",
      "6        freetime    0.117733\n",
      "4             age    0.113283\n",
      "7           goout    0.108827\n",
      "1            Medu    0.094835\n",
      "0            Fedu    0.077428\n",
      "2            Walc    0.075146\n",
      "5        failures    0.044820\n",
      "13   Fjob_teacher    0.032390\n",
      "12  Fjob_services    0.028641\n",
      "11     Fjob_other    0.027734\n",
      "10    Fjob_health    0.006441\n",
      "9    Fjob_at_home    0.002293\n"
     ]
    }
   ],
   "source": [
    "CV_rfc.best_estimator_.feature_importances_\n",
    "importances_df = pd.DataFrame({'variable':X_train.columns, 'importance': CV_rfc.best_estimator_.feature_importances_})\n",
    "top_N = importances_df.sort_values(by=['importance'], ascending=False)\n",
    "print(top_N)"
   ]
  }
 ],
 "metadata": {
  "kernelspec": {
   "display_name": "Python 3.10.4 ('fall-22-hw4-bill-and-teedy-s-excellent-adv-ObamcBOO')",
   "language": "python",
   "name": "python3"
  },
  "language_info": {
   "codemirror_mode": {
    "name": "ipython",
    "version": 3
   },
   "file_extension": ".py",
   "mimetype": "text/x-python",
   "name": "python",
   "nbconvert_exporter": "python",
   "pygments_lexer": "ipython3",
   "version": "3.10.4"
  },
  "vscode": {
   "interpreter": {
    "hash": "b78d74169c64b8130e9acd446c7abb9c5d2da5ae5ba8e0f786d27f1834bdbe70"
   }
  }
 },
 "nbformat": 4,
 "nbformat_minor": 2
}
