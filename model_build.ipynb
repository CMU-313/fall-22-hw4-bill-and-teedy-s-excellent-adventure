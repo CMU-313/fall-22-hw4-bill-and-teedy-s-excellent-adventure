{
 "cells": [
  {
   "cell_type": "markdown",
   "metadata": {},
   "source": [
    "### Creating and Persisting an ML Model"
   ]
  },
  {
   "cell_type": "code",
   "execution_count": null,
   "metadata": {},
   "outputs": [],
   "source": [
    "import pandas as pd\n",
    "import numpy as np\n",
    "df = pd.read_csv('data/student-mat.csv', sep=';')"
   ]
  },
  {
   "cell_type": "markdown",
   "metadata": {},
   "source": [
    "Summary of the data"
   ]
  },
  {
   "cell_type": "code",
   "execution_count": null,
   "metadata": {},
   "outputs": [],
   "source": [
    "df.describe()\n",
    "df"
   ]
  },
  {
   "cell_type": "code",
   "execution_count": null,
   "metadata": {},
   "outputs": [],
   "source": [
    "df.info"
   ]
  },
  {
   "cell_type": "markdown",
   "metadata": {},
   "source": [
    "Create a subset of features as an example."
   ]
  },
  {
   "cell_type": "code",
   "execution_count": null,
   "metadata": {},
   "outputs": [],
   "source": [
    "include = ['school', 'higher','Mjob', 'Fjob', 'studytime', 'paid', 'failures', 'G3']\n",
    "df.drop(columns=df.columns.difference(include), inplace=True)  # only using 3 features"
   ]
  },
  {
   "cell_type": "code",
   "execution_count": null,
   "metadata": {},
   "outputs": [],
   "source": [
    "df.info"
   ]
  },
  {
   "cell_type": "markdown",
   "metadata": {},
   "source": [
    "The goal is to predict the quality of the student. We will build a predictor based on the final grade (G3).\n",
    "Becasue we are trying to find quality students. In this model we define a quality student as one who achieves a final grade of 15 or higher. "
   ]
  },
  {
   "cell_type": "code",
   "execution_count": null,
   "metadata": {},
   "outputs": [],
   "source": [
    "df['qual_student'] = np.where(df['G3']>=15, 1, 0)"
   ]
  },
  {
   "cell_type": "code",
   "execution_count": null,
   "metadata": {},
   "outputs": [],
   "source": [
    "df.describe()"
   ]
  },
  {
   "cell_type": "markdown",
   "metadata": {},
   "source": [
    "Drop the G3 score"
   ]
  },
  {
   "cell_type": "code",
   "execution_count": null,
   "metadata": {},
   "outputs": [],
   "source": [
    "include = ['school', 'higher','Mjob', 'Fjob', 'studytime', 'paid', 'failures', 'qual_student']\n",
    "df.drop(columns=df.columns.difference(include), inplace=True) "
   ]
  },
  {
   "cell_type": "markdown",
   "metadata": {},
   "source": [
    "Import scikit-learn and build a random forest classifer"
   ]
  },
  {
   "cell_type": "code",
   "execution_count": null,
   "metadata": {},
   "outputs": [],
   "source": [
    "import sklearn\n",
    "from sklearn import preprocessing, neighbors, svm\n",
    "from sklearn.ensemble import RandomForestClassifier as rf\n",
    "from sklearn.model_selection import train_test_split\n",
    "\n",
    "dependent_variable = 'qual_student'\n",
    "\n",
    "df = pd.get_dummies(df, drop_first=True)\n",
    "# df = pd.concat(pd.get_dummies(df, drop_first=True), df,  axis=1)\n",
    "# df = pd.get_dummies(df, drop_first=True).astype(float)\n",
    "y = df[dependent_variable]\n",
    "X = df[df.columns.difference([dependent_variable])]\n",
    "# print(X)\n",
    "\n",
    "# print(df)\n",
    "\n",
    "# clf = rf(n_estimators = 1000)\n",
    "# clf.fit(x, y)\n",
    "\n",
    "#splitting the train and test sets\n",
    "X_train, X_test, y_train,y_test= train_test_split(X, y, test_size=0.3)"
   ]
  },
  {
   "cell_type": "code",
   "execution_count": null,
   "metadata": {},
   "outputs": [],
   "source": [
    "# pred = clf.predict(x)\n",
    "# sklearn.metrics.f1_score(y, pred, average='binary')\n",
    "\n",
    "rfc = rf(criterion='gini', \n",
    "        n_estimators=10750,\n",
    "        max_depth=5,\n",
    "        min_samples_split=6,\n",
    "        min_samples_leaf=6,\n",
    "        max_features='auto',\n",
    "        oob_score=True,\n",
    "        random_state=42,\n",
    "        n_jobs=-1,\n",
    "        verbose=1)\n",
    "\n",
    "rfc.fit(X_train, y_train)\n",
    "print('****Results****')\n",
    "print(\"Accuracy: {:.4%}\".format(rfc.score(X_test, y_test)))"
   ]
  },
  {
   "cell_type": "markdown",
   "metadata": {},
   "source": [
    "It's not very good! We didn't even cross validate. You'll need to do better :)\n",
    "Let's export this model so we can use it in a microservice (flask api)"
   ]
  },
  {
   "cell_type": "code",
   "execution_count": null,
   "metadata": {},
   "outputs": [],
   "source": [
    "import joblib\n",
    "# modify the file path to where you want to save the model\n",
    "joblib.dump(rfc, 'app/handlers/model4.pkl')"
   ]
  },
  {
   "cell_type": "code",
   "execution_count": null,
   "metadata": {},
   "outputs": [],
   "source": [
    "# print(X_train)\n",
    "# print(X_train.columns)\n",
    "query_df = pd.DataFrame({'Fjob_health' : pd.Series(0), \n",
    "                         'Fjob_other' : pd.Series(1), \n",
    "                         'Fjob_services': pd.Series(0),\n",
    "                         'Fjob_teacher': pd.Series(0),\n",
    "                         'Mjob_health': pd.Series(0),\n",
    "                         'Mjob_other': pd.Series(0),\n",
    "                         'Mjob_services': pd.Series(0),\n",
    "                         'Mjob_teacher': pd.Series(1),\n",
    "                         'failures': pd.Series(5),\n",
    "                         'higher_yes': pd.Series(1),\n",
    "                         'paid_yes': pd.Series(1),\n",
    "                         'school_MS': pd.Series(0),\n",
    "                         'studytime': pd.Series(20)})\n",
    "# query_df = pd.get_dummies(query_df, drop_first=True).astype(float)"
   ]
  },
  {
   "cell_type": "code",
   "execution_count": null,
   "metadata": {},
   "outputs": [],
   "source": [
    "pred = rfc.predict(query_df)"
   ]
  },
  {
   "cell_type": "code",
   "execution_count": null,
   "metadata": {},
   "outputs": [],
   "source": [
    "pred"
   ]
  },
  {
   "cell_type": "code",
   "execution_count": null,
   "metadata": {},
   "outputs": [],
   "source": [
    "type(pred)"
   ]
  },
  {
   "cell_type": "code",
   "execution_count": null,
   "metadata": {},
   "outputs": [],
   "source": [
    "print(query_df.columns)"
   ]
  }
 ],
 "metadata": {
  "kernelspec": {
   "display_name": "Python 3.10.4 ('fall-22-hw4-bill-and-teedy-s-excellent-adv-ObamcBOO')",
   "language": "python",
   "name": "python3"
  },
  "language_info": {
   "codemirror_mode": {
    "name": "ipython",
    "version": 3
   },
   "file_extension": ".py",
   "mimetype": "text/x-python",
   "name": "python",
   "nbconvert_exporter": "python",
   "pygments_lexer": "ipython3",
   "version": "3.10.4"
  },
  "vscode": {
   "interpreter": {
    "hash": "b78d74169c64b8130e9acd446c7abb9c5d2da5ae5ba8e0f786d27f1834bdbe70"
   }
  }
 },
 "nbformat": 4,
 "nbformat_minor": 2
}
