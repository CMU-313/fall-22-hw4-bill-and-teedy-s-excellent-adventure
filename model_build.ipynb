{
 "cells": [
  {
   "cell_type": "markdown",
   "metadata": {},
   "source": [
    "### Creating and Persisting an ML Model"
   ]
  },
  {
   "cell_type": "code",
   "execution_count": null,
   "metadata": {},
   "outputs": [],
   "source": [
    "import pandas as pd\n",
    "import numpy as np\n",
    "df = pd.read_csv('data/student-mat.csv', sep=';')"
   ]
  },
  {
   "cell_type": "markdown",
   "metadata": {},
   "source": [
    "Summary of the data"
   ]
  },
  {
   "cell_type": "code",
   "execution_count": null,
   "metadata": {},
   "outputs": [],
   "source": [
    "df.describe()\n",
    "df"
   ]
  },
  {
   "cell_type": "code",
   "execution_count": null,
   "metadata": {},
   "outputs": [],
   "source": [
    "df.info"
   ]
  },
  {
   "cell_type": "markdown",
   "metadata": {},
   "source": [
    "Create a subset of features as an example."
   ]
  },
  {
   "cell_type": "code",
   "execution_count": null,
   "metadata": {},
   "outputs": [],
   "source": [
    "include = ['school', 'higher','Mjob', 'Fjob', 'studytime', 'paid', 'failures', 'G3']\n",
    "df.drop(columns=df.columns.difference(include), inplace=True)  # only using 3 features"
   ]
  },
  {
   "cell_type": "code",
   "execution_count": null,
   "metadata": {},
   "outputs": [],
   "source": [
    "df.info"
   ]
  },
  {
   "cell_type": "markdown",
   "metadata": {},
   "source": [
    "The goal is to predict the quality of the student. We will build a predictor based on the final grade (G3).\n",
    "Becasue we are trying to find quality students. In this model we define a quality student as one who achieves a final grade of 15 or higher. "
   ]
  },
  {
   "cell_type": "code",
   "execution_count": null,
   "metadata": {},
   "outputs": [],
   "source": [
    "df['qual_student'] = np.where(df['G3']>=15, 1, 0)"
   ]
  },
  {
   "cell_type": "code",
   "execution_count": null,
   "metadata": {},
   "outputs": [],
   "source": [
    "df.describe()"
   ]
  },
  {
   "cell_type": "markdown",
   "metadata": {},
   "source": [
    "Drop the G3 score"
   ]
  },
  {
   "cell_type": "code",
   "execution_count": null,
   "metadata": {},
   "outputs": [],
   "source": [
    "include = ['school', 'schoolsup', 'higher','Mjob', 'Fjob', 'studytime', 'paid', 'failures', 'qual_student']\n",
    "df.drop(columns=df.columns.difference(include), inplace=True) "
   ]
  },
  {
   "cell_type": "markdown",
   "metadata": {},
   "source": [
    "Import scikit-learn and build a random forest classifer"
   ]
  },
  {
   "cell_type": "code",
   "execution_count": null,
   "metadata": {},
   "outputs": [],
   "source": [
    "import sklearn\n",
    "from sklearn import preprocessing, neighbors, svm\n",
    "from sklearn.ensemble import RandomForestClassifier as rf\n",
    "from sklearn.model_selection import train_test_split\n",
    "\n",
    "dependent_variable = 'qual_student'\n",
    "\n",
    "df = pd.get_dummies(df, drop_first=True)\n",
    "y = df[dependent_variable]\n",
    "X = df[df.columns.difference([dependent_variable])]\n",
    "\n",
    "#splitting the train and test sets\n",
    "X_train, X_test, y_train,y_test= train_test_split(X, y, test_size=0.3)"
   ]
  },
  {
   "cell_type": "code",
   "execution_count": null,
   "metadata": {},
   "outputs": [],
   "source": [
    "rfc = rf(criterion='gini', \n",
    "        n_estimators=5750,\n",
    "        max_depth=5,\n",
    "        min_samples_split=6,\n",
    "        min_samples_leaf=6,\n",
    "        max_features='auto',\n",
    "        oob_score=True,\n",
    "        random_state=42,\n",
    "        n_jobs=-1,\n",
    "        verbose=1)\n",
    "\n",
    "rfc.fit(X_train, y_train)\n",
    "print('****Results****')\n",
    "print(\"Accuracy: {:.4%}\".format(rfc.score(X_test, y_test)))"
   ]
  },
  {
   "cell_type": "markdown",
   "metadata": {},
   "source": [
    "It's not very good! We didn't even cross validate. You'll need to do better :)\n",
    "Let's export this model so we can use it in a microservice (flask api)"
   ]
  },
  {
   "cell_type": "code",
   "execution_count": null,
   "metadata": {},
   "outputs": [],
   "source": [
    "import joblib\n",
    "# modify the file path to where you want to save the model\n",
    "joblib.dump(rfc, 'app/handlers/model3.pkl')"
   ]
  },
  {
   "cell_type": "code",
   "execution_count": null,
   "metadata": {},
   "outputs": [],
   "source": [
    "query_df = pd.DataFrame({'Fjob_health' : pd.Series(0), \n",
    "                         'Fjob_other' : pd.Series(1), \n",
    "                         'Fjob_services': pd.Series(0),\n",
    "                         'Fjob_teacher': pd.Series(0),\n",
    "                         'Mjob_health': pd.Series(0),\n",
    "                         'Mjob_other': pd.Series(0),\n",
    "                         'Mjob_services': pd.Series(0),\n",
    "                         'Mjob_teacher': pd.Series(1),\n",
    "                         'failures': pd.Series(5),\n",
    "                         'higher_yes': pd.Series(1),\n",
    "                         'paid_yes': pd.Series(1),\n",
    "                         'school_MS': pd.Series(0),\n",
    "                         'studytime': pd.Series(20)})\n",
    "query_df = pd.get_dummies(query_df, drop_first=True).astype(float)"
   ]
  },
  {
   "cell_type": "code",
   "execution_count": null,
   "metadata": {},
   "outputs": [],
   "source": [
    "pred = rfc.predict(query_df)"
   ]
  },
  {
   "cell_type": "code",
   "execution_count": null,
   "metadata": {},
   "outputs": [],
   "source": [
    "pred"
   ]
  },
  {
   "cell_type": "code",
   "execution_count": null,
   "metadata": {},
   "outputs": [],
   "source": [
    "type(pred)"
   ]
  },
  {
   "cell_type": "code",
   "execution_count": null,
   "metadata": {},
   "outputs": [],
   "source": [
    "from sklearn.feature_selection import SelectFromModel\n",
    "\n",
    "rfc = rf(criterion='gini', \n",
    "        n_estimators=15750,\n",
    "        max_depth=25,\n",
    "        min_samples_split=5,\n",
    "        min_samples_leaf=5,\n",
    "        max_features='auto',\n",
    "        oob_score=True,\n",
    "        random_state=42,\n",
    "        n_jobs=-1,\n",
    "        verbose=1)\n",
    "\n",
    "\n",
    "## Testing Features\n",
    "df = pd.read_csv('data/student-mat.csv', sep=';')\n",
    "df['qual_student'] = np.where(df['G3']>=15, 1, 0)\n",
    "df.drop(columns=['G3', 'G2', 'G1'], inplace=True) \n",
    "\n",
    "\n",
    "# print(df.select_dtypes(exclude=[\"number\",\"bool_\"]).columns)\n",
    "df = pd.get_dummies(df, columns = df.select_dtypes(exclude=[\"number\",\"bool_\"]).columns)\n",
    "print(sum(df['qual_student']))\n",
    "\n",
    "y = df['qual_student']\n",
    "X = df[df.columns.difference(['qual_student'])]\n",
    "\n",
    "\n",
    "X_train, X_test, y_train, y_test = train_test_split(X,y,test_size=0.3)\n",
    "\n",
    "sel = SelectFromModel(rfc)\n",
    "sel.fit(X_train, y_train)\n",
    "\n",
    "selected_feat= X_train.columns[(sel.get_support())]\n",
    "len(selected_feat)\n",
    "\n",
    "print(selected_feat)\n"
   ]
  },
  {
   "cell_type": "code",
   "execution_count": null,
   "metadata": {},
   "outputs": [],
   "source": [
    "\n",
    "col = df.columns.difference(selected_feat)\n",
    "\n",
    "X = df[df.columns.difference(col)]\n",
    "\n",
    "\n",
    "X_train, X_test, y_train, y_test = train_test_split(X,y,test_size=0.3)\n",
    "\n",
    "sel = SelectFromModel(rfc)\n",
    "sel.fit(X_train, y_train)\n",
    "\n",
    "selected_feat= X_train.columns[(sel.get_support())]\n",
    "len(selected_feat)\n",
    "\n",
    "print(selected_feat)"
   ]
  },
  {
   "cell_type": "code",
   "execution_count": null,
   "metadata": {},
   "outputs": [],
   "source": [
    "df = pd.read_csv('data/student-mat.csv', sep=';')\n",
    "df['qual_student'] = np.where(df['G3']>=15, 1, 0)\n",
    "df.drop(columns=['G3', 'G2', 'G1'], inplace=True) \n",
    "\n",
    "top_values = selected_feat\n",
    "\n",
    "df = pd.get_dummies(df, columns = df.select_dtypes(exclude=[\"number\",\"bool_\"]).columns)\n",
    "\n",
    "y = df['qual_student']\n",
    "X = df[df.columns.difference(['qual_student'])]\n",
    "col = df.columns.difference(top_values)\n",
    "\n",
    "X = df[df.columns.difference(col)]\n",
    "\n",
    "X_train, X_test, y_train, y_test = train_test_split(X,y,test_size=0.3)\n",
    "\n",
    "rfc.fit(X_train, y_train)\n",
    "print('****Results****')\n",
    "print(\"Accuracy: {:.4%}\".format(rfc.score(X_test, y_test)))"
   ]
  },
  {
   "cell_type": "code",
   "execution_count": null,
   "metadata": {},
   "outputs": [],
   "source": []
  },
  {
   "cell_type": "code",
   "execution_count": null,
   "metadata": {},
   "outputs": [],
   "source": [
    "df = pd.read_csv('data/student-mat.csv', sep=';')\n",
    "df['qual_student'] = np.where(df['G3']>=15, 1, 0)\n",
    "df.drop(columns=['G3', 'G2', 'G1'], inplace=True) \n",
    "\n",
    "df = pd.get_dummies(df, columns = df.select_dtypes(exclude=[\"number\",\"bool_\"]).columns)\n",
    "\n",
    "y = df['qual_student']\n",
    "X = df[df.columns.difference(['qual_student'])]\n",
    "print(X.columns)\n",
    "\n",
    "rfc = rf(criterion='gini', \n",
    "        n_estimators=5750,\n",
    "        max_depth=25,\n",
    "        min_samples_split=5,\n",
    "        min_samples_leaf=5,\n",
    "        max_features='auto',\n",
    "        oob_score=True,\n",
    "        random_state=42,\n",
    "        n_jobs=-1,\n",
    "        verbose=1)\n",
    "X_train, X_test, y_train, y_test = train_test_split(X,y,test_size=0.3)\n",
    "\n",
    "rfc.fit(X_train, y_train)\n",
    "print('****Results****')\n",
    "print(\"Accuracy: {:.4%}\".format(rfc.score(X_test, y_test)))\n",
    "\n",
    "print(rfc.feature_importances_)\n",
    "importances_df = pd.DataFrame({'variable':X_train.columns, 'importance': rfc.feature_importances_})\n",
    "top_N = importances_df.sort_values(by=['importance'], ascending=False)\n",
    "print(top_N)"
   ]
  },
  {
   "cell_type": "code",
   "execution_count": null,
   "metadata": {},
   "outputs": [],
   "source": [
    "most_important_features =  ['Medu', 'health', 'absences', 'age', 'Walc']\n",
    "\n",
    "df = pd.read_csv('data/student-mat.csv', sep=';')\n",
    "df['qual_student'] = np.where(df['G3']>=15, 1, 0)\n",
    "df.drop(columns=['G3', 'G2', 'G1'], inplace=True) \n",
    "\n",
    "df = pd.get_dummies(df, columns = df.select_dtypes(exclude=[\"number\",\"bool_\"]).columns)\n",
    "\n",
    "y = df['qual_student']\n",
    "col = df.columns.difference(most_important_features)\n",
    "X = df[df.columns.difference(col)]\n",
    "print(X.columns)\n",
    "\n",
    "rfc = rf(criterion='gini', \n",
    "        n_estimators=5750,\n",
    "        max_depth=20,\n",
    "        min_samples_split=5,\n",
    "        min_samples_leaf=5,\n",
    "        max_features='auto',\n",
    "        oob_score=True,\n",
    "        random_state=42,\n",
    "        n_jobs=-1,\n",
    "        verbose=1)\n",
    "X_train, X_test, y_train, y_test = train_test_split(X,y,test_size=0.3)\n",
    "\n",
    "rfc.fit(X_train, y_train)\n",
    "print('****Results****')\n",
    "print(\"Accuracy: {:.4%}\".format(rfc.score(X_test, y_test)))"
   ]
  },
  {
   "cell_type": "code",
   "execution_count": null,
   "metadata": {},
   "outputs": [],
   "source": []
  },
  {
   "cell_type": "code",
   "execution_count": null,
   "metadata": {},
   "outputs": [],
   "source": [
    "from sklearn.model_selection import GridSearchCV\n",
    "\n",
    "rfc2 = rf(criterion='gini', \n",
    "        n_estimators=7000,\n",
    "        oob_score=True,\n",
    "        random_state=42,\n",
    "        n_jobs=-1,\n",
    "        verbose=0)\n",
    "\n",
    "df = pd.read_csv('data/student-mat.csv', sep=';')\n",
    "df['qual_student'] = np.where(df['G3']>=15, 1, 0)\n",
    "df.drop(columns=['G3', 'G2', 'G1'], inplace=True) \n",
    "\n",
    "\n",
    "y = df['qual_student']\n",
    "col = df.columns.difference(['Fedu', 'Medu', 'Walc', 'absences', 'age', 'failures', 'freetime',\n",
    "       'goout', 'health'])\n",
    "X = df[df.columns.difference(col)]\n",
    "X = pd.get_dummies(X, columns = X.select_dtypes(exclude=[\"number\",\"bool_\"]).columns)\n",
    "print(X.columns)\n",
    "\n",
    "X_train, X_test, y_train, y_test = train_test_split(X,y,test_size=0.3)\n",
    "\n",
    "param_grid = { \n",
    "    'max_features': ['sqrt'],\n",
    "    'max_depth' : [5, 7, 9, 12],\n",
    "    'min_samples_split': [4,6,8],\n",
    "    'min_samples_leaf': [1, 2, 3]\n",
    "}\n",
    "\n",
    "CV_rfc = GridSearchCV(estimator=rfc2, param_grid=param_grid, cv= 5)\n",
    "CV_rfc.fit(X_train, y_train)\n",
    "print (CV_rfc.best_params_)"
   ]
  },
  {
   "cell_type": "code",
   "execution_count": null,
   "metadata": {},
   "outputs": [],
   "source": [
    "print(\"Accuracy: {:.4%}\".format(CV_rfc.best_estimator_.score(X_test, y_test)))"
   ]
  },
  {
   "cell_type": "code",
   "execution_count": null,
   "metadata": {},
   "outputs": [],
   "source": [
    "CV_rfc.best_estimator_.feature_importances_\n",
    "importances_df = pd.DataFrame({'variable':X_train.columns, 'importance': CV_rfc.best_estimator_.feature_importances_})\n",
    "top_N = importances_df.sort_values(by=['importance'], ascending=False)\n",
    "print(top_N)"
   ]
  },
  {
   "cell_type": "code",
   "execution_count": null,
   "metadata": {},
   "outputs": [],
   "source": [
    "df = pd.read_csv('data/student-mat.csv', sep=';')\n",
    "df['qual_student'] = np.where(df['G3']>=15, 1, 0)\n",
    "df.iloc[391]"
   ]
  },
  {
   "cell_type": "code",
   "execution_count": null,
   "metadata": {},
   "outputs": [],
   "source": [
    "df.iloc[391]['absences']\n",
    "df.iloc[391]['goout']\n",
    "df.iloc[391]['qual_student']"
   ]
  },
  {
   "cell_type": "code",
   "execution_count": null,
   "metadata": {},
   "outputs": [],
   "source": [
    "def add_query_val(row, column):\n",
    "    return \"&\" + column + \"=\" + str(row[column])\n",
    "\n",
    "def query_create(data):\n",
    "    result = []\n",
    "    for i in data.index:\n",
    "        query = \"predict?\" + \"Fedu=\" + str(df.iloc[i][\"Fedu\"])\n",
    "        query += add_query_val(df.iloc[i], \"Medu\")\n",
    "        query += add_query_val(df.iloc[i], \"Walc\")\n",
    "        query += add_query_val(df.iloc[i], \"absences\")\n",
    "        query += add_query_val(df.iloc[i], \"age\")\n",
    "        query += add_query_val(df.iloc[i], \"failures\")\n",
    "        query += add_query_val(df.iloc[i], \"freetime\")\n",
    "        query += add_query_val(df.iloc[i], \"goout\")\n",
    "        query += add_query_val(df.iloc[i], \"health\")\n",
    "        result.append(query)\n",
    "    return result\n"
   ]
  },
  {
   "cell_type": "code",
   "execution_count": null,
   "metadata": {},
   "outputs": [],
   "source": [
    "query_create(df[df[\"qual_student\"] == 1])"
   ]
  }
 ],
 "metadata": {
  "kernelspec": {
   "display_name": "Python 3.10.4 ('fall-22-hw4-bill-and-teedy-s-excellent-adv-ObamcBOO')",
   "language": "python",
   "name": "python3"
  },
  "language_info": {
   "codemirror_mode": {
    "name": "ipython",
    "version": 3
   },
   "file_extension": ".py",
   "mimetype": "text/x-python",
   "name": "python",
   "nbconvert_exporter": "python",
   "pygments_lexer": "ipython3",
   "version": "3.10.4"
  },
  "vscode": {
   "interpreter": {
    "hash": "b78d74169c64b8130e9acd446c7abb9c5d2da5ae5ba8e0f786d27f1834bdbe70"
   }
  }
 },
 "nbformat": 4,
 "nbformat_minor": 2
}
